{
 "cells": [
  {
   "cell_type": "code",
   "execution_count": 5,
   "metadata": {},
   "outputs": [],
   "source": [
    "import pandas as pd\n",
    "import numpy as np\n",
    "from sentence_transformers import SentenceTransformer\n",
    "from sklearn.metrics.pairwise import cosine_similarity\n",
    "import os\n",
    "import google.generativeai as genai"
   ]
  },
  {
   "cell_type": "code",
   "execution_count": 6,
   "metadata": {},
   "outputs": [
    {
     "data": {
      "text/html": [
       "<div>\n",
       "<style scoped>\n",
       "    .dataframe tbody tr th:only-of-type {\n",
       "        vertical-align: middle;\n",
       "    }\n",
       "\n",
       "    .dataframe tbody tr th {\n",
       "        vertical-align: top;\n",
       "    }\n",
       "\n",
       "    .dataframe thead th {\n",
       "        text-align: right;\n",
       "    }\n",
       "</style>\n",
       "<table border=\"1\" class=\"dataframe\">\n",
       "  <thead>\n",
       "    <tr style=\"text-align: right;\">\n",
       "      <th></th>\n",
       "      <th>question</th>\n",
       "      <th>student_answer</th>\n",
       "      <th>grades_round</th>\n",
       "      <th>student_modified</th>\n",
       "      <th>ref_answer</th>\n",
       "      <th>qn_modified</th>\n",
       "      <th>ref_modified</th>\n",
       "      <th>student_demoted</th>\n",
       "      <th>ref_demoted</th>\n",
       "      <th>length_ratio</th>\n",
       "      <th>...</th>\n",
       "      <th>embed_stud</th>\n",
       "      <th>embed_ref_demoted</th>\n",
       "      <th>embed_stud_demoted</th>\n",
       "      <th>aligned</th>\n",
       "      <th>aligned_demoted</th>\n",
       "      <th>cos_similarity</th>\n",
       "      <th>cos_similarity_demo</th>\n",
       "      <th>aligned_score</th>\n",
       "      <th>aligned_score_demo</th>\n",
       "      <th>question_id</th>\n",
       "    </tr>\n",
       "  </thead>\n",
       "  <tbody>\n",
       "    <tr>\n",
       "      <th>0</th>\n",
       "      <td>Give a definition for the term \"artificial ne...</td>\n",
       "      <td>An artificial neural network is a massively pa...</td>\n",
       "      <td>2</td>\n",
       "      <td>artificial neural network massively parallel d...</td>\n",
       "      <td>A neural network is a massively parallel distr...</td>\n",
       "      <td>give definition term artificial neural network...</td>\n",
       "      <td>neural network massively parallel distributed ...</td>\n",
       "      <td>massively parallel distributed processor simpl...</td>\n",
       "      <td>massively parallel distributed processor made ...</td>\n",
       "      <td>0.251889</td>\n",
       "      <td>...</td>\n",
       "      <td>[[ 2.2006836   0.86382484  0.27182007  2.55627...</td>\n",
       "      <td>[[ 1.6300049e+00  1.5985355e+00 -1.2829590e-01...</td>\n",
       "      <td>[[ 2.0412598e+00  4.9321938e-01  1.0058594e-01...</td>\n",
       "      <td>[['neural', 'neural'], ['network', 'network'],...</td>\n",
       "      <td>[['simple', 'simple'], ['processing', 'process...</td>\n",
       "      <td>0.947867</td>\n",
       "      <td>0.933466</td>\n",
       "      <td>0.969697</td>\n",
       "      <td>0.950888</td>\n",
       "      <td>1</td>\n",
       "    </tr>\n",
       "    <tr>\n",
       "      <th>1</th>\n",
       "      <td>Give a definition for the term \"artificial ne...</td>\n",
       "      <td>Artificial neural network consists of: . Large...</td>\n",
       "      <td>2</td>\n",
       "      <td>artificial neural network consists largely par...</td>\n",
       "      <td>A neural network is a massively parallel distr...</td>\n",
       "      <td>give definition term artificial neural network...</td>\n",
       "      <td>neural network massively parallel distributed ...</td>\n",
       "      <td>consists largely parallel distributed processo...</td>\n",
       "      <td>massively parallel distributed processor made ...</td>\n",
       "      <td>0.232759</td>\n",
       "      <td>...</td>\n",
       "      <td>[[ 1.33543945  1.09904457  0.52998901  2.03334...</td>\n",
       "      <td>[[ 1.6300049e+00  1.5985355e+00 -1.2829590e-01...</td>\n",
       "      <td>[[ 1.19566895  0.7539518   0.13561035  1.22295...</td>\n",
       "      <td>[['knowledge', 'knowledge'], ['parallel', 'par...</td>\n",
       "      <td>[['knowledge', 'knowledge'], ['knowledge', 'kn...</td>\n",
       "      <td>0.964398</td>\n",
       "      <td>0.951182</td>\n",
       "      <td>0.883259</td>\n",
       "      <td>0.818713</td>\n",
       "      <td>1</td>\n",
       "    </tr>\n",
       "    <tr>\n",
       "      <th>2</th>\n",
       "      <td>Give a definition for the term \"artificial ne...</td>\n",
       "      <td>An artificial neural network is a massive dist...</td>\n",
       "      <td>1</td>\n",
       "      <td>artificial neural network massive distributed ...</td>\n",
       "      <td>A neural network is a massively parallel distr...</td>\n",
       "      <td>give definition term artificial neural network...</td>\n",
       "      <td>neural network massively parallel distributed ...</td>\n",
       "      <td>massive distributed processor consists several...</td>\n",
       "      <td>massively parallel distributed processor made ...</td>\n",
       "      <td>0.102828</td>\n",
       "      <td>...</td>\n",
       "      <td>[[ 0.41577148 -0.37836266  0.22351074  0.95300...</td>\n",
       "      <td>[[ 1.6300049e+00  1.5985355e+00 -1.2829590e-01...</td>\n",
       "      <td>[[ 3.84277344e-01 -4.89446640e-01  1.72241211e...</td>\n",
       "      <td>[['knowledge', 'knowledge'], ['neural', 'neura...</td>\n",
       "      <td>[['knowledge', 'knowledge'], ['distributed', '...</td>\n",
       "      <td>0.854767</td>\n",
       "      <td>0.775333</td>\n",
       "      <td>0.498039</td>\n",
       "      <td>0.465632</td>\n",
       "      <td>1</td>\n",
       "    </tr>\n",
       "  </tbody>\n",
       "</table>\n",
       "<p>3 rows × 21 columns</p>\n",
       "</div>"
      ],
      "text/plain": [
       "                                            question  \\\n",
       "0   Give a definition for the term \"artificial ne...   \n",
       "1   Give a definition for the term \"artificial ne...   \n",
       "2   Give a definition for the term \"artificial ne...   \n",
       "\n",
       "                                      student_answer  grades_round  \\\n",
       "0  An artificial neural network is a massively pa...             2   \n",
       "1  Artificial neural network consists of: . Large...             2   \n",
       "2  An artificial neural network is a massive dist...             1   \n",
       "\n",
       "                                    student_modified  \\\n",
       "0  artificial neural network massively parallel d...   \n",
       "1  artificial neural network consists largely par...   \n",
       "2  artificial neural network massive distributed ...   \n",
       "\n",
       "                                          ref_answer  \\\n",
       "0  A neural network is a massively parallel distr...   \n",
       "1  A neural network is a massively parallel distr...   \n",
       "2  A neural network is a massively parallel distr...   \n",
       "\n",
       "                                         qn_modified  \\\n",
       "0  give definition term artificial neural network...   \n",
       "1  give definition term artificial neural network...   \n",
       "2  give definition term artificial neural network...   \n",
       "\n",
       "                                        ref_modified  \\\n",
       "0  neural network massively parallel distributed ...   \n",
       "1  neural network massively parallel distributed ...   \n",
       "2  neural network massively parallel distributed ...   \n",
       "\n",
       "                                     student_demoted  \\\n",
       "0  massively parallel distributed processor simpl...   \n",
       "1  consists largely parallel distributed processo...   \n",
       "2  massive distributed processor consists several...   \n",
       "\n",
       "                                         ref_demoted  length_ratio  ...  \\\n",
       "0  massively parallel distributed processor made ...      0.251889  ...   \n",
       "1  massively parallel distributed processor made ...      0.232759  ...   \n",
       "2  massively parallel distributed processor made ...      0.102828  ...   \n",
       "\n",
       "                                          embed_stud  \\\n",
       "0  [[ 2.2006836   0.86382484  0.27182007  2.55627...   \n",
       "1  [[ 1.33543945  1.09904457  0.52998901  2.03334...   \n",
       "2  [[ 0.41577148 -0.37836266  0.22351074  0.95300...   \n",
       "\n",
       "                                   embed_ref_demoted  \\\n",
       "0  [[ 1.6300049e+00  1.5985355e+00 -1.2829590e-01...   \n",
       "1  [[ 1.6300049e+00  1.5985355e+00 -1.2829590e-01...   \n",
       "2  [[ 1.6300049e+00  1.5985355e+00 -1.2829590e-01...   \n",
       "\n",
       "                                  embed_stud_demoted  \\\n",
       "0  [[ 2.0412598e+00  4.9321938e-01  1.0058594e-01...   \n",
       "1  [[ 1.19566895  0.7539518   0.13561035  1.22295...   \n",
       "2  [[ 3.84277344e-01 -4.89446640e-01  1.72241211e...   \n",
       "\n",
       "                                             aligned  \\\n",
       "0  [['neural', 'neural'], ['network', 'network'],...   \n",
       "1  [['knowledge', 'knowledge'], ['parallel', 'par...   \n",
       "2  [['knowledge', 'knowledge'], ['neural', 'neura...   \n",
       "\n",
       "                                     aligned_demoted cos_similarity  \\\n",
       "0  [['simple', 'simple'], ['processing', 'process...       0.947867   \n",
       "1  [['knowledge', 'knowledge'], ['knowledge', 'kn...       0.964398   \n",
       "2  [['knowledge', 'knowledge'], ['distributed', '...       0.854767   \n",
       "\n",
       "   cos_similarity_demo  aligned_score  aligned_score_demo  question_id  \n",
       "0             0.933466       0.969697            0.950888            1  \n",
       "1             0.951182       0.883259            0.818713            1  \n",
       "2             0.775333       0.498039            0.465632            1  \n",
       "\n",
       "[3 rows x 21 columns]"
      ]
     },
     "execution_count": 6,
     "metadata": {},
     "output_type": "execute_result"
    }
   ],
   "source": [
    "# Load dataset\n",
    "df = pd.read_csv(\"data/asag_dataset.csv\")\n",
    "\n",
    "df = df.drop(columns=[\"\\\\\"], errors=\"ignore\")\n",
    "\n",
    "# Check first few rows\n",
    "df.head(3)\n"
   ]
  },
  {
   "cell_type": "code",
   "execution_count": 7,
   "metadata": {},
   "outputs": [
    {
     "name": "stdout",
     "output_type": "stream",
     "text": [
      "Missing Columns: ['embed_ref_modified', 'embed_stud_modified', 'cos_similarity_modified']\n"
     ]
    }
   ],
   "source": [
    "# Check missing columns\n",
    "expected_columns = [\n",
    "    \"question\", \"student_answer\", \"ref_answer\", \"qn_modified\", \"student_modified\",\n",
    "    \"ref_modified\", \"student_demoted\", \"ref_demoted\", \"length_ratio\",\n",
    "    \"embed_ref\", \"embed_stud\", \"embed_ref_modified\", \"embed_stud_modified\",\n",
    "    \"embed_ref_demoted\", \"embed_stud_demoted\", \"aligned\", \"aligned_demoted\",\n",
    "    \"grades_round\", \"cos_similarity\", \"cos_similarity_modified\", \"cos_similarity_demo\",\n",
    "    \"aligned_score\", \"aligned_score_demo\", \"question_id\"\n",
    "]\n",
    "missing_columns = [col for col in expected_columns if col not in df.columns]\n",
    "print(\"Missing Columns:\", missing_columns)"
   ]
  },
  {
   "cell_type": "markdown",
   "metadata": {},
   "source": [
    "🔹 Step 2: Load SBERT & Generate Embeddings`\n"
   ]
  },
  {
   "cell_type": "code",
   "execution_count": 8,
   "metadata": {},
   "outputs": [
    {
     "name": "stderr",
     "output_type": "stream",
     "text": [
      "c:\\Users\\shawn\\AppData\\Local\\Programs\\Python\\Python311\\Lib\\site-packages\\huggingface_hub\\file_download.py:1132: FutureWarning: `resume_download` is deprecated and will be removed in version 1.0.0. Downloads always resume when possible. If you want to force a new download, use `force_download=True`.\n",
      "  warnings.warn(\n"
     ]
    }
   ],
   "source": [
    "# Load SBERT model\n",
    "sbert_model = SentenceTransformer('paraphrase-mpnet-base-v2')\n",
    "\n",
    "# Ensure all values are strings\n",
    "df[\"embed_ref_modified\"] = df[\"ref_modified\"].astype(str).apply(lambda x: sbert_model.encode(x).tolist() if x.strip() else None)\n",
    "df[\"embed_stud_modified\"] = df[\"student_modified\"].astype(str).apply(lambda x: sbert_model.encode(x).tolist() if x.strip() else None)\n",
    "\n",
    "# Compute Cosine Similarity\n",
    "df['cos_similarity_modified'] = df.apply(\n",
    "    lambda row: cosine_similarity([row['embed_ref_modified']], [row['embed_stud_modified']])[0][0],\n",
    "    axis=1\n",
    ")\n",
    "\n"
   ]
  },
  {
   "cell_type": "markdown",
   "metadata": {},
   "source": [
    "🔹 Step 3: Compute Final Combined Similarity Score\n",
    "    Weighted formula: 70% `cos_similarity_demo` + 30% `cos_similarity_modified`"
   ]
  },
  {
   "cell_type": "code",
   "execution_count": 31,
   "metadata": {},
   "outputs": [],
   "source": [
    "df[\"combined_similarity\"] = (0.4 * df[\"cos_similarity_demo\"]) + (0.6 * df[\"cos_similarity_modified\"])\n"
   ]
  },
  {
   "cell_type": "markdown",
   "metadata": {},
   "source": [
    "🔹 Step 4: Assign Grades Based on Cosine Similarity & Alignment"
   ]
  },
  {
   "cell_type": "code",
   "execution_count": null,
   "metadata": {},
   "outputs": [],
   "source": [
    "def assign_grades(cos_sim):\n",
    "    if cos_sim > 0.7834:\n",
    "        return \"Completely Correct\", 2\n",
    "    elif cos_sim > 0.3126:\n",
    "        return \"Partially Incorrect\", 1\n",
    "    else:\n",
    "        return \"Incorrect\", 0\n",
    "\n",
    "df[[\"grade_text\", \"grades_auto\"]] = df[\"combined_similarity\"].apply(lambda x: pd.Series(assign_grades(x)))\n",
    "\n",
    "\n",
    "# Check results\n",
    "# print(df[[\"cos_similarity_modified\", \"aligned_word_match\", \"grade_text\", \"grades_auto\"]].head())\n"
   ]
  },
  {
   "cell_type": "code",
   "execution_count": 33,
   "metadata": {},
   "outputs": [
    {
     "name": "stdout",
     "output_type": "stream",
     "text": [
      "Grading completed! Saved to data/graded_answers_new.csv\n"
     ]
    }
   ],
   "source": [
    "# ================================\n",
    "# Step 6: Save Graded Data\n",
    "# ================================\n",
    "OUTPUT_PATH = \"data/graded_answers_new.csv\"\n",
    "df.to_csv(OUTPUT_PATH, index=False, encoding=\"utf-8\")\n",
    "\n",
    "print(f\"Grading completed! Saved to {OUTPUT_PATH}\")"
   ]
  },
  {
   "cell_type": "code",
   "execution_count": 36,
   "metadata": {},
   "outputs": [],
   "source": [
    "newdf=pd.read_csv(\"data/Final_Dataset.csv\")"
   ]
  },
  {
   "cell_type": "code",
   "execution_count": 37,
   "metadata": {},
   "outputs": [
    {
     "data": {
      "text/plain": [
       "Index(['question', 'student_answer', 'student_modified', 'ref_answer',\n",
       "       'qn_modified', 'ref_modified', 'student_demoted', 'ref_demoted',\n",
       "       'length_ratio', 'embed_ref', 'embed_stud', 'embed_ref_demoted',\n",
       "       'embed_stud_demoted', 'aligned', 'aligned_demoted', 'cos_similarity',\n",
       "       'cos_similarity_demo', 'aligned_score', 'aligned_score_demo',\n",
       "       'question_id', 'embed_ref_modified', 'embed_stud_modified',\n",
       "       'cos_similarity_modified', 'combined_similarity', 'grade_text',\n",
       "       'grades_auto'],\n",
       "      dtype='object')"
      ]
     },
     "execution_count": 37,
     "metadata": {},
     "output_type": "execute_result"
    }
   ],
   "source": [
    "newdf.columns"
   ]
  }
 ],
 "metadata": {
  "kernelspec": {
   "display_name": "Python 3",
   "language": "python",
   "name": "python3"
  },
  "language_info": {
   "codemirror_mode": {
    "name": "ipython",
    "version": 3
   },
   "file_extension": ".py",
   "mimetype": "text/x-python",
   "name": "python",
   "nbconvert_exporter": "python",
   "pygments_lexer": "ipython3",
   "version": "3.11.4"
  }
 },
 "nbformat": 4,
 "nbformat_minor": 2
}
