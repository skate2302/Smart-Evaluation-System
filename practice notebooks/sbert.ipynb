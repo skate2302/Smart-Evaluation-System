{
 "cells": [
  {
   "cell_type": "code",
   "execution_count": 12,
   "metadata": {},
   "outputs": [
    {
     "name": "stdout",
     "output_type": "stream",
     "text": [
      "Cosine Similarity: 0.5808\n",
      "Dot Product Similarity: 0.5808\n"
     ]
    }
   ],
   "source": [
    "from sentence_transformers import SentenceTransformer, util\n",
    "\n",
    "model = SentenceTransformer('all-mpnet-base-v2')\n",
    "\n",
    "sentence1 = \"Artificial neural networks are inspired by the human brain.\"\n",
    "sentence2 = \"ANNs work similarly to biological neurons.\"\n",
    "\n",
    "# Convert to embeddings\n",
    "embedding1 = model.encode(sentence1)\n",
    "embedding2 = model.encode(sentence2)\n",
    "\n",
    "# Compute Cosine Similarity\n",
    "similarity = util.cos_sim(embedding1, embedding2)\n",
    "similarity_dot = util.dot_score(embedding1, embedding2)\n",
    "\n",
    "\n",
    "print(f\"Cosine Similarity: {similarity.item():.4f}\")  # Output: High similarity score (e.g., 0.89+)\n",
    "print(f\"Dot Product Similarity: {similarity_dot.item():.4f}\")\n"
   ]
  },
  {
   "cell_type": "code",
   "execution_count": 13,
   "metadata": {},
   "outputs": [
    {
     "name": "stderr",
     "output_type": "stream",
     "text": [
      "c:\\Users\\shawn\\AppData\\Local\\Programs\\Python\\Python311\\Lib\\site-packages\\huggingface_hub\\file_download.py:157: UserWarning: `huggingface_hub` cache-system uses symlinks by default to efficiently store duplicated files but your machine does not support them in C:\\Users\\shawn\\.cache\\huggingface\\hub\\models--sentence-transformers--stsb-roberta-large. Caching files will still work but in a degraded version that might require more space on your disk. This warning can be disabled by setting the `HF_HUB_DISABLE_SYMLINKS_WARNING` environment variable. For more details, see https://huggingface.co/docs/huggingface_hub/how-to-cache#limitations.\n",
      "To support symlinks on Windows, you either need to activate Developer Mode or to run Python as an administrator. In order to see activate developer mode, see this article: https://docs.microsoft.com/en-us/windows/apps/get-started/enable-your-device-for-development\n",
      "  warnings.warn(message)\n"
     ]
    },
    {
     "name": "stdout",
     "output_type": "stream",
     "text": [
      "General Purpose Model:\n",
      "Sentence 1: Artificial neural networks are inspired by the human brain.\n",
      "Sentence 2: Neural networks mimic the human brain.\n",
      "Cosine Similarity: 0.8341\n",
      "--------------------\n",
      "Sentence 1: ANNs work similarly to biological neurons.\n",
      "Sentence 2: Biological neurons and ANNs share functional similarities.\n",
      "Cosine Similarity: 0.8955\n",
      "--------------------\n",
      "Sentence 1: Deep learning is a subfield of machine learning.\n",
      "Sentence 2: Machine learning encompasses deep learning.\n",
      "Cosine Similarity: 0.7486\n",
      "--------------------\n",
      "Sentence 1: Elephants enjoy eating peanuts.\n",
      "Sentence 2: Peanuts are a favorite food of elephants.\n",
      "Cosine Similarity: 0.9323\n",
      "--------------------\n",
      "\n",
      "STS-Specific Model:\n",
      "Sentence 1: Artificial neural networks are inspired by the human brain.\n",
      "Sentence 2: Neural networks mimic the human brain.\n",
      "Cosine Similarity: 0.7994\n",
      "--------------------\n",
      "Sentence 1: ANNs work similarly to biological neurons.\n",
      "Sentence 2: Biological neurons and ANNs share functional similarities.\n",
      "Cosine Similarity: 0.8189\n",
      "--------------------\n",
      "Sentence 1: Deep learning is a subfield of machine learning.\n",
      "Sentence 2: Machine learning encompasses deep learning.\n",
      "Cosine Similarity: 0.8402\n",
      "--------------------\n",
      "Sentence 1: Elephants enjoy eating peanuts.\n",
      "Sentence 2: Peanuts are a favorite food of elephants.\n",
      "Cosine Similarity: 0.7218\n",
      "--------------------\n"
     ]
    }
   ],
   "source": [
    "from sentence_transformers import SentenceTransformer, util\n",
    "\n",
    "# 1. Using a general-purpose model (good for many cases)\n",
    "model_general = SentenceTransformer('all-mpnet-base-v2')\n",
    "\n",
    "# 2. Using an STS-specific model (best for semantic similarity tasks)\n",
    "model_sts = SentenceTransformer('stsb-roberta-large')  # Or another stsb-* model\n",
    "\n",
    "\n",
    "\n",
    "sentences1 = [\n",
    "    \"Artificial neural networks are inspired by the human brain.\",\n",
    "    \"ANNs work similarly to biological neurons.\",  # High similarity\n",
    "    \"Deep learning is a subfield of machine learning.\", # Related concept\n",
    "    \"Elephants enjoy eating peanuts.\",  # Unrelated concept\n",
    "]\n",
    "\n",
    "sentences2 = [\n",
    "    \"Neural networks mimic the human brain.\", # Paraphrase of sentence 1\n",
    "    \"Biological neurons and ANNs share functional similarities.\", # Paraphrase of sentence 2\n",
    "    \"Machine learning encompasses deep learning.\", # Paraphrase of sentence 3\n",
    "    \"Peanuts are a favorite food of elephants.\", # Paraphrase of sentence 4\n",
    "]\n",
    "\n",
    "\n",
    "def compare_sentences(model, s1, s2):\n",
    "    embeddings1 = model.encode(s1)\n",
    "    embeddings2 = model.encode(s2)\n",
    "    similarities = util.cos_sim(embeddings1, embeddings2)\n",
    "    for i in range(len(s1)):\n",
    "        print(f\"Sentence 1: {s1[i]}\")\n",
    "        print(f\"Sentence 2: {s2[i]}\")\n",
    "        print(f\"Cosine Similarity: {similarities[i][i].item():.4f}\")  # Access diagonal for pairwise comparison\n",
    "        print(\"-\" * 20)\n",
    "\n",
    "\n",
    "print(\"General Purpose Model:\")\n",
    "compare_sentences(model_general, sentences1, sentences2)\n",
    "\n",
    "print(\"\\nSTS-Specific Model:\")\n",
    "compare_sentences(model_sts, sentences1, sentences2)"
   ]
  },
  {
   "cell_type": "code",
   "execution_count": 15,
   "metadata": {},
   "outputs": [
    {
     "name": "stderr",
     "output_type": "stream",
     "text": [
      "c:\\Users\\shawn\\AppData\\Local\\Programs\\Python\\Python311\\Lib\\site-packages\\huggingface_hub\\file_download.py:1132: FutureWarning: `resume_download` is deprecated and will be removed in version 1.0.0. Downloads always resume when possible. If you want to force a new download, use `force_download=True`.\n",
      "  warnings.warn(\n"
     ]
    }
   ],
   "source": [
    "from sentence_transformers import SentenceTransformer, util\n",
    "\n",
    "# # 1. Using a general-purpose model (good for many cases)\n",
    "# model_general = SentenceTransformer('all-mpnet-base-v2')\n",
    "\n",
    "# # 2. Using an STS-specific model (best for semantic similarity tasks)\n",
    "# model_sts = SentenceTransformer('stsb-roberta-large')  # Or another stsb-* model\n",
    "\n",
    "\n",
    "model_para = SentenceTransformer(\"paraphrase-MiniLM-L6-v2\")  # Lightweight version\n",
    "\n",
    "sentences1 = [\n",
    "    \"Artificial neural networks are inspired by the human brain.\",\n",
    "    \"ANNs work similarly to biological neurons.\",  # High similarity\n",
    "    \"Deep learning is a subfield of machine learning.\", # Related concept\n",
    "    \"Elephants enjoy eating peanuts.\",  # Unrelated concept\n",
    "]\n",
    "\n",
    "sentences2 = [\n",
    "    \"Neural networks mimic the human brain.\", # Paraphrase of sentence 1\n",
    "    \"Biological neurons and ANNs share functional similarities.\", # Paraphrase of sentence 2\n",
    "    \"Machine learning encompasses deep learning.\", # Paraphrase of sentence 3\n",
    "    \"Peanuts are a favorite food of elephants.\", # Paraphrase of sentence 4\n",
    "]\n",
    "\n",
    "\n",
    "def compare_sentences(model, s1, s2):\n",
    "    embeddings1 = model.encode(s1)\n",
    "    embeddings2 = model.encode(s2)\n",
    "    similarities = util.cos_sim(embeddings1, embeddings2)\n",
    "    for i in range(len(s1)):\n",
    "        print(f\"Sentence 1: {s1[i]}\")\n",
    "        print(f\"Sentence 2: {s2[i]}\")\n",
    "        print(f\"Cosine Similarity: {similarities[i][i].item():.4f}\")  # Access diagonal for pairwise comparison\n",
    "        print(\"-\" * 20)\n",
    "\n",
    "\n",
    "# print(\"General Purpose Model:\")\n",
    "# compare_sentences(model_general, sentences1, sentences2)\n",
    "\n",
    "# print(\"\\nSTS-Specific Model:\")\n",
    "# compare_sentences(model_sts, sentences1, sentences2)"
   ]
  },
  {
   "cell_type": "code",
   "execution_count": 16,
   "metadata": {},
   "outputs": [
    {
     "name": "stdout",
     "output_type": "stream",
     "text": [
      "\\para Model:\n",
      "Sentence 1: Artificial neural networks are inspired by the human brain.\n",
      "Sentence 2: Neural networks mimic the human brain.\n",
      "Cosine Similarity: 0.8719\n",
      "--------------------\n",
      "Sentence 1: ANNs work similarly to biological neurons.\n",
      "Sentence 2: Biological neurons and ANNs share functional similarities.\n",
      "Cosine Similarity: 0.8642\n",
      "--------------------\n",
      "Sentence 1: Deep learning is a subfield of machine learning.\n",
      "Sentence 2: Machine learning encompasses deep learning.\n",
      "Cosine Similarity: 0.9083\n",
      "--------------------\n",
      "Sentence 1: Elephants enjoy eating peanuts.\n",
      "Sentence 2: Peanuts are a favorite food of elephants.\n",
      "Cosine Similarity: 0.8912\n",
      "--------------------\n"
     ]
    }
   ],
   "source": [
    "print(\"\\para Model:\")\n",
    "compare_sentences(model_para, sentences1, sentences2)"
   ]
  }
 ],
 "metadata": {
  "kernelspec": {
   "display_name": "Python 3",
   "language": "python",
   "name": "python3"
  },
  "language_info": {
   "codemirror_mode": {
    "name": "ipython",
    "version": 3
   },
   "file_extension": ".py",
   "mimetype": "text/x-python",
   "name": "python",
   "nbconvert_exporter": "python",
   "pygments_lexer": "ipython3",
   "version": "3.11.4"
  }
 },
 "nbformat": 4,
 "nbformat_minor": 2
}
