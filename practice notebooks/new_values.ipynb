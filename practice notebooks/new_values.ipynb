{
 "cells": [
  {
   "cell_type": "code",
   "execution_count": 1,
   "metadata": {},
   "outputs": [
    {
     "name": "stderr",
     "output_type": "stream",
     "text": [
      "c:\\Users\\shawn\\AppData\\Local\\Programs\\Python\\Python311\\Lib\\site-packages\\tqdm\\auto.py:21: TqdmWarning: IProgress not found. Please update jupyter and ipywidgets. See https://ipywidgets.readthedocs.io/en/stable/user_install.html\n",
      "  from .autonotebook import tqdm as notebook_tqdm\n",
      "c:\\Users\\shawn\\AppData\\Local\\Programs\\Python\\Python311\\Lib\\site-packages\\huggingface_hub\\file_download.py:1132: FutureWarning: `resume_download` is deprecated and will be removed in version 1.0.0. Downloads always resume when possible. If you want to force a new download, use `force_download=True`.\n",
      "  warnings.warn(\n"
     ]
    }
   ],
   "source": [
    "import pandas as pd\n",
    "import numpy as np\n",
    "from sentence_transformers import SentenceTransformer\n",
    "from sklearn.metrics.pairwise import cosine_similarity\n",
    "\n",
    "# Load SBERT model\n",
    "sbert_model = SentenceTransformer('paraphrase-mpnet-base-v2')\n",
    "\n",
    "# Load dataset\n",
    "df = pd.read_csv(\"data/Final_Dataset.csv\")"
   ]
  },
  {
   "cell_type": "code",
   "execution_count": null,
   "metadata": {},
   "outputs": [],
   "source": [
    "def preprocess_text(text):\n",
    "    \"\"\" Convert text to lowercase, remove punctuation, and lemmatize. \"\"\"\n",
    "    doc = nlp(text.lower())\n",
    "    return \" \".join([token.lemma_ for token in doc if not token.is_punct])\n",
    "\n",
    "# Function to remove words present in the question (Demotion)\n",
    "def demote_text(student_answer, question):\n",
    "    \"\"\" Remove words from student answer that appear in the question \"\"\"\n",
    "    question_words = set(preprocess_text(question).split())\n",
    "    student_words = preprocess_text(student_answer).split()\n",
    "    demoted_text = \" \".join([word for word in student_words if word not in question_words])\n",
    "    return demoted_text\n"
   ]
  },
  {
   "cell_type": "code",
   "execution_count": 12,
   "metadata": {},
   "outputs": [],
   "source": [
    "def evaluate_student_answer(question, student_answer):\n",
    "    # Find the reference answer for the question\n",
    "    ref_answer = df[df[\"question\"] == question][\"ref_answer\"].values[0]\n",
    "    \n",
    "    # Preprocess\n",
    "    student_modified = preprocess_text(student_answer)\n",
    "    ref_modified = preprocess_text(ref_answer)\n",
    "    \n",
    "    student_demoted = demote_text(student_answer, question)\n",
    "    ref_demoted = demote_text(ref_answer, question)\n",
    "    \n",
    "    # Compute length ratio\n",
    "    length_ratio = len(student_modified.split()) / max(1, len(ref_modified.split()))\n",
    "    \n",
    "    # Compute embeddings\n",
    "    embed_ref_modified = sbert_model.encode(ref_modified).tolist()\n",
    "    embed_stud_modified = sbert_model.encode(student_modified).tolist()\n",
    "    \n",
    "    embed_ref_demoted = sbert_model.encode(ref_demoted).tolist()\n",
    "    embed_stud_demoted = sbert_model.encode(student_demoted).tolist()\n",
    "    \n",
    "    # Compute cosine similarity\n",
    "    cos_similarity_modified = cosine_similarity([embed_ref_modified], [embed_stud_modified])[0][0]\n",
    "    cos_similarity_demo = cosine_similarity([embed_ref_demoted], [embed_stud_demoted])[0][0]\n",
    "\n",
    "    # Assign Grade\n",
    "    def assign_grades(cos_sim):\n",
    "        if cos_sim > 0.69:\n",
    "            return \"Completely Correct\", 2\n",
    "        elif cos_sim > 0.395998348:\n",
    "            return \"Partially Incorrect\", 1\n",
    "        else:\n",
    "            return \"Incorrect\", 0\n",
    "    \n",
    "    grade_text, grades_auto = assign_grades(cos_similarity_modified)\n",
    "\n",
    "    # Store results in a dictionary\n",
    "    result = {\n",
    "        \"question\": question,\n",
    "        \"student_answer\": student_answer,\n",
    "        \"grades_round\": grades_auto,\n",
    "        \"grade_text\": grade_text,\n",
    "        \"student_modified\": student_modified,\n",
    "        \"ref_answer\": ref_answer,\n",
    "        \"qn_modified\": preprocess_text(question),\n",
    "        \"ref_modified\": ref_modified,\n",
    "        \"student_demoted\": student_demoted,\n",
    "        \"ref_demoted\": ref_demoted,\n",
    "        \"length_ratio\": length_ratio,\n",
    "        \"cos_similarity_modified\": cos_similarity_modified,\n",
    "        \"cos_similarity_demo\": cos_similarity_demo\n",
    "    }\n",
    "    \n",
    "    return result\n"
   ]
  },
  {
   "cell_type": "code",
   "execution_count": 20,
   "metadata": {},
   "outputs": [
    {
     "name": "stdout",
     "output_type": "stream",
     "text": [
      "question:  Give a definition for the term \"artificial neural network\" and mention, how it resembles the human brain!\n",
      "student_answer: Artifical Neural Network.\n",
      "grades_round: 1\n",
      "grade_text: Partially Incorrect\n",
      "student_modified: artifical neural network\n",
      "ref_answer: A neural network is a massively parallel distributed processor which is made up of simple processing units. It has a natural propensity for storing experiential knowledge. Neural networks resemble the brain in two aspects; knowledge is acquired by the network from its environment through a learning process, interneuron connection strength known as synaptic weights are used to store the acquired knowledge.\n",
      "qn_modified:   give a definition for the term artificial neural network and mention how it resemble the human brain\n",
      "ref_modified: a neural network be a massively parallel distribute processor which be make up of simple processing unit it have a natural propensity for store experiential knowledge neural network resemble the brain in two aspect knowledge be acquire by the network from its environment through a learning process interneuron connection strength know as synaptic weight be use to store the acquire knowledge\n",
      "student_demoted: artifical\n",
      "ref_demoted: be massively parallel distribute processor which be make up of simple processing unit have natural propensity store experiential knowledge in two aspect knowledge be acquire by from its environment through learning process interneuron connection strength know as synaptic weight be use to store acquire knowledge\n",
      "length_ratio: 0.04918032786885246\n",
      "cos_similarity_modified: 0.663461583907175\n",
      "cos_similarity_demo: 0.1386559504191292\n"
     ]
    }
   ],
   "source": [
    "# Example Input\n",
    "question_input = \" Give a definition for the term \\\"artificial neural network\\\" and mention, how it resembles the human brain!\"\n",
    "student_answer_input = \"Artifical Neural Network.\"\n",
    "\n",
    "# Evaluate the new student answer\n",
    "result = evaluate_student_answer(question_input, student_answer_input)\n",
    "\n",
    "# Print Results\n",
    "for key, value in result.items():\n",
    "    print(f\"{key}: {value}\")\n"
   ]
  },
  {
   "cell_type": "code",
   "execution_count": 21,
   "metadata": {},
   "outputs": [
    {
     "name": "stdout",
     "output_type": "stream",
     "text": [
      "Index(['\\', 'question', 'student_answer', 'grades_round', 'student_modified',\n",
      "       'ref_answer', 'qn_modified', 'ref_modified', 'student_demoted',\n",
      "       'ref_demoted', 'length_ratio', 'embed_ref', 'embed_stud',\n",
      "       'embed_ref_demoted', 'embed_stud_demoted', 'aligned', 'aligned_demoted',\n",
      "       'cos_similarity', 'cos_similarity_demo', 'aligned_score',\n",
      "       'aligned_score_demo', 'question_id', 'embed_ref_modified',\n",
      "       'embed_stud_modified', 'cos_similarity_modified', 'grade_text',\n",
      "       'grades_auto'],\n",
      "      dtype='object')\n"
     ]
    }
   ],
   "source": [
    "print(df.columns)\n"
   ]
  }
 ],
 "metadata": {
  "kernelspec": {
   "display_name": "Python 3",
   "language": "python",
   "name": "python3"
  },
  "language_info": {
   "codemirror_mode": {
    "name": "ipython",
    "version": 3
   },
   "file_extension": ".py",
   "mimetype": "text/x-python",
   "name": "python",
   "nbconvert_exporter": "python",
   "pygments_lexer": "ipython3",
   "version": "3.11.4"
  }
 },
 "nbformat": 4,
 "nbformat_minor": 2
}
